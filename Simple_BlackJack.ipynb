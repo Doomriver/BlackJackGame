{
 "cells": [
  {
   "cell_type": "code",
   "execution_count": 1,
   "id": "0ae9b5ed-08d1-4f7c-a04e-6135e312e860",
   "metadata": {},
   "outputs": [
    {
     "ename": "SyntaxError",
     "evalue": "unmatched ')' (3435090273.py, line 30)",
     "output_type": "error",
     "traceback": [
      "\u001b[1;36m  Input \u001b[1;32mIn [1]\u001b[1;36m\u001b[0m\n\u001b[1;33m    jakaja.append(pakka.pop))\u001b[0m\n\u001b[1;37m                            ^\u001b[0m\n\u001b[1;31mSyntaxError\u001b[0m\u001b[1;31m:\u001b[0m unmatched ')'\n"
     ]
    }
   ],
   "source": [
    "from ast import Return\n",
    "from random import random\n",
    "from secrets import randbelow\n",
    "\n",
    "\n",
    "import random\n",
    "from telnetlib import PRAGMA_HEARTBEAT\n",
    "def luo_korttipakka():\n",
    "    pakka = []\n",
    "    for x in [\"Pata\", \"Hertta\", \"Ruutu\", \"Risti\"]:\n",
    "        for i in range (13):\n",
    "            pakka.append (x + \" \" + str(i + 1))\n",
    "    return pakka\n",
    "\n",
    "def laske_arvo (kortit) :\n",
    "    arvo = 0\n",
    "    for k in kortit:\n",
    "        if int(k.split () [1] ) > 10:\n",
    "            arvo = arvo + 10\n",
    "        else:\n",
    "            arvo = arvo + int(k.split()[1])\n",
    "    return arvo\n",
    "\n",
    "while (input (\"Pelataanko {K/E]? \") .upper() == \"K\") :\n",
    "    pakka = luo_korttipakka()\n",
    "    random.shuffle(pakka)\n",
    "\n",
    "    pelaaja = [pakka]\n",
    "    jakaja = []\n",
    "    for i in range(2):\n",
    "        pelaaja.append(pakka.pop())\n",
    "        jakaja.append(pakka.pop())\n",
    "\n",
    "        while True:\n",
    "            pelaaja_pisteet = laske_arvo(pelaaja)\n",
    "            print (\"PELAAJAN VUORO:\")\n",
    "            print(\"Pelaaja:\", pelaaja_pisteet,  \": \", pelaaja)\n",
    "            print (\"Jakaja:\", jakaja [0])\n",
    "            if pelaaja_pisteet >=21:\n",
    "                break\n",
    "            if input(\"Ota kortti [K]? \").upper() == \"K\":\n",
    "                pelaaja.append(pakka.pop())\n",
    "        else:\n",
    "                break\n",
    "        if pelaaja_pisteet >21:\n",
    "                    print (\"YLI 21: PEALAAJA HÄVISI!`\\n\")\n",
    "                    continue\n",
    "        elif pelaaja_pisteet ==21:\n",
    "                    print (\"BLACKJACK!: PELAAJA VOITTI!\\n!\")\n",
    "                    continue\n",
    "        while True:\n",
    "                    jakaja_pisteet = laske_arvo(jakaja)\n",
    "                    print (\"JAKAJAN VUORO:\")\n",
    "                    print (\"Pelaaja:\", pelaaja_pisteet,\": \", pelaaja)\n",
    "                    print (\"Jakaja: \", jakaja_pisteet, \", \", jakaja)\n",
    "                    if jakaja_pisteet < 16:\n",
    "                        jakaja.append(pakka.pop())\n",
    "                    else:\n",
    "                        break\n",
    "        if jakaja_pisteet > 21 or jakaja_pisteet < pelaaja_pisteet:\n",
    "                    print (\"PELAAJA VOITTI!\\n\")\n",
    "                    \n",
    "        else:\n",
    "                    print (\"PELAAJA HÄVISI!\\n\")"
   ]
  }
 ],
 "metadata": {
  "kernelspec": {
   "display_name": "Python 3 (ipykernel)",
   "language": "python",
   "name": "python3"
  },
  "language_info": {
   "codemirror_mode": {
    "name": "ipython",
    "version": 3
   },
   "file_extension": ".py",
   "mimetype": "text/x-python",
   "name": "python",
   "nbconvert_exporter": "python",
   "pygments_lexer": "ipython3",
   "version": "3.10.4"
  }
 },
 "nbformat": 4,
 "nbformat_minor": 5
}
